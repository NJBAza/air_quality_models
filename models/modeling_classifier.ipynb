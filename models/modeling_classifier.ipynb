{
 "cells": [
  {
   "cell_type": "code",
   "execution_count": 1,
   "id": "50006af1-d355-485d-90e2-9174ae05e7ec",
   "metadata": {},
   "outputs": [],
   "source": [
    "import time\n",
    "import warnings\n",
    "\n",
    "import matplotlib.pyplot as plt\n",
    "import numpy as np\n",
    "import pandas as pd\n",
    "import seaborn as sns\n",
    "from sklearn.ensemble import (\n",
    "    RandomForestClassifier,\n",
    "    StackingClassifier,\n",
    ")\n",
    "from sklearn.linear_model import LogisticRegression\n",
    "from sklearn.metrics import (\n",
    "    accuracy_score,\n",
    "    classification_report,\n",
    "    f1_score,\n",
    "    precision_score,\n",
    "    recall_score,\n",
    ")\n",
    "from sklearn.model_selection import (\n",
    "    GridSearchCV,\n",
    "    KFold,\n",
    "    train_test_split,\n",
    ")\n",
    "from sklearn.neighbors import KNeighborsClassifier\n",
    "from sklearn.preprocessing import LabelEncoder\n",
    "from sklearn.tree import DecisionTreeClassifier\n",
    "from tqdm import tqdm\n",
    "from xgboost import XGBClassifier\n",
    "\n",
    "warnings.filterwarnings(\"ignore\")\n",
    "warnings.filterwarnings(\"ignore\", category=DeprecationWarning)\n",
    "\n",
    "pd.set_option(\"display.max_rows\", 500)\n",
    "pd.set_option(\"display.max_columns\", 500)\n",
    "pd.set_option(\"display.width\", 1000)"
   ]
  },
  {
   "cell_type": "code",
   "execution_count": 2,
   "id": "81a4338d-a1de-4073-80b4-8579defc21eb",
   "metadata": {},
   "outputs": [],
   "source": [
    "tqdm.pandas()"
   ]
  },
  {
   "cell_type": "markdown",
   "id": "d702d486-229a-43b2-8425-0f0159748e91",
   "metadata": {},
   "source": [
    "---\n",
    "\n",
    "<center><h1>💻💻 Classifier Model 💻 💻</h1></center>\n",
    "\n",
    "---"
   ]
  },
  {
   "cell_type": "code",
   "execution_count": 3,
   "id": "ca691e6b-93bc-4810-9d07-43d5bd171dc9",
   "metadata": {},
   "outputs": [],
   "source": [
    "# Invoking the prepared data\n",
    "\n",
    "df = pd.read_csv('working.csv')"
   ]
  },
  {
   "cell_type": "code",
   "execution_count": 4,
   "id": "942164de-3172-4a5f-82f0-f00adc5760a1",
   "metadata": {},
   "outputs": [
    {
     "data": {
      "text/plain": [
       "CO(GT)_winsor          float64\n",
       "PT08.S1(CO)_winsor     float64\n",
       "PT08.S4(NO2)_winsor    float64\n",
       "T_winsor               float64\n",
       "RH_winsor              float64\n",
       "AH_winsor              float64\n",
       "day_winsor             float64\n",
       "year_winsor            float64\n",
       "quarter_winsor         float64\n",
       "weekday_winsor         float64\n",
       "NO2(GT)_winsor         float64\n",
       "air_quality             object\n",
       "dtype: object"
      ]
     },
     "execution_count": 4,
     "metadata": {},
     "output_type": "execute_result"
    }
   ],
   "source": [
    "df.dtypes"
   ]
  },
  {
   "cell_type": "code",
   "execution_count": 5,
   "id": "a53228dc-dc6b-450f-baa7-622b2220def0",
   "metadata": {},
   "outputs": [],
   "source": [
    "le = LabelEncoder()\n",
    "df['air_quality'] = le.fit_transform(df['air_quality'])"
   ]
  },
  {
   "cell_type": "code",
   "execution_count": 6,
   "id": "bcab3121-8be2-455a-84af-0c7150bf331c",
   "metadata": {},
   "outputs": [
    {
     "data": {
      "text/plain": [
       "(8421, 12)"
      ]
     },
     "execution_count": 6,
     "metadata": {},
     "output_type": "execute_result"
    }
   ],
   "source": [
    "df.shape"
   ]
  },
  {
   "cell_type": "markdown",
   "id": "8e111769-d67a-4a0a-8b49-0586f603f2a9",
   "metadata": {},
   "source": [
    "## Splitting the set into training and validation sets"
   ]
  },
  {
   "cell_type": "code",
   "execution_count": 7,
   "id": "ec351ef1-548c-4ba7-a8ee-0e7d22e6c41d",
   "metadata": {},
   "outputs": [],
   "source": [
    "train_X = df.drop(['NO2(GT)_winsor', 'air_quality'], axis=1)"
   ]
  },
  {
   "cell_type": "code",
   "execution_count": 8,
   "id": "c6c42b7b-f245-454b-b209-ce4076be953c",
   "metadata": {},
   "outputs": [],
   "source": [
    "train_y = df['air_quality']"
   ]
  },
  {
   "cell_type": "code",
   "execution_count": 9,
   "id": "49fac51c-3a5c-4ce6-be97-01b4de03add7",
   "metadata": {},
   "outputs": [],
   "source": [
    "RANDOM_SEED = 16092023"
   ]
  },
  {
   "cell_type": "code",
   "execution_count": 10,
   "id": "9865ccb1-7092-4ffd-b178-7cb16372e28e",
   "metadata": {},
   "outputs": [
    {
     "name": "stdout",
     "output_type": "stream",
     "text": [
      "train data size: (6736, 10)\n",
      "test data size: (1685, 10)\n"
     ]
    }
   ],
   "source": [
    "# Let’s split X and y using Train validation split\n",
    "X_train, X_validation, y_train, y_validation = train_test_split(\n",
    "    train_X, train_y, train_size=0.8, random_state=RANDOM_SEED, stratify=train_y\n",
    ")\n",
    "\n",
    "# get shape of train and test data\n",
    "print(\"train data size:\", X_train.shape)\n",
    "print(\"test data size:\", X_validation.shape)"
   ]
  },
  {
   "cell_type": "markdown",
   "id": "1c0bf2b4-1499-4ef7-aae7-f71e3e1e747c",
   "metadata": {},
   "source": [
    "We note that the proportion of classes is preserved:"
   ]
  },
  {
   "cell_type": "code",
   "execution_count": 11,
   "id": "86141766-906e-4cdd-ae07-323861cb07d3",
   "metadata": {},
   "outputs": [
    {
     "data": {
      "text/plain": [
       "(air_quality\n",
       " 0    64.398527\n",
       " 2    29.177057\n",
       " 1     6.424415\n",
       " Name: proportion, dtype: float64,\n",
       " air_quality\n",
       " 0    64.400238\n",
       " 2    29.171615\n",
       " 1     6.428147\n",
       " Name: proportion, dtype: float64,\n",
       " air_quality\n",
       " 0    64.391691\n",
       " 2    29.198813\n",
       " 1     6.409496\n",
       " Name: proportion, dtype: float64)"
      ]
     },
     "execution_count": 11,
     "metadata": {},
     "output_type": "execute_result"
    }
   ],
   "source": [
    "train_y.value_counts(normalize=True)*100, y_train.value_counts(normalize=True)*100, y_validation.value_counts(normalize=True)*100"
   ]
  },
  {
   "cell_type": "markdown",
   "id": "5f79ca59-2a9d-4988-8bb8-25c01c93a094",
   "metadata": {},
   "source": [
    "## Classifier Models\n",
    "\n",
    "The function cv_score_classifier is designed to perform cross-validation for classification models. As is well-known, cross-validation is a technique used to assess the generalization performance of a model on unseen data. This function specifically applies K-Fold cross-validation, which is a commonly used method in machine learning."
   ]
  },
  {
   "cell_type": "code",
   "execution_count": 12,
   "id": "2bb94ea2-57e5-49eb-a8d5-3a92ea88f27e",
   "metadata": {},
   "outputs": [],
   "source": [
    "def cv_score_classifier(ml_model, rstate=11, cols=None, df=None, df_y=None):\n",
    "    start_time = time.time()\n",
    "\n",
    "    if df is None or df_y is None:\n",
    "        raise ValueError(\"DataFrames df and df_y must be provided\")\n",
    "\n",
    "    if cols is not None:\n",
    "        df1 = df[cols].copy()\n",
    "    else:\n",
    "        df1 = df.copy()\n",
    "\n",
    "    cv_scores = []\n",
    "    \n",
    "    kf = KFold(n_splits=5, random_state=rstate, shuffle=True)\n",
    "    \n",
    "    for train_index, test_index in kf.split(df1):\n",
    "        xtr, xvl = df1.iloc[train_index], df1.iloc[test_index]\n",
    "        ytr, yvl = df_y.iloc[train_index], df_y.iloc[test_index]\n",
    "\n",
    "        model = ml_model\n",
    "        model.fit(xtr, ytr)\n",
    "        pred_val = model.predict(xvl)\n",
    "        \n",
    "        # Calculate accuracy for classification\n",
    "        score = accuracy_score(yvl, pred_val)\n",
    "        \n",
    "        # Save scores\n",
    "        cv_scores.append(score)\n",
    "\n",
    "    end_time = time.time()\n",
    "    \n",
    "    print(f\"Duration for training the model: {end_time - start_time:.2f} seconds.\")\n",
    "    print(f\"Average accuracy score across folds: {np.mean(cv_scores):.4f}\")\n",
    "    return cv_scores"
   ]
  },
  {
   "cell_type": "code",
   "execution_count": 13,
   "id": "ca38a9f1-2a47-4cf7-9718-69b41d4d4b9e",
   "metadata": {},
   "outputs": [
    {
     "name": "stdout",
     "output_type": "stream",
     "text": [
      "Duration for training the model: 4.01 seconds.\n",
      "Average accuracy score across folds: 0.8441\n"
     ]
    }
   ],
   "source": [
    "random_forest_classifier = cv_score_classifier(RandomForestClassifier(n_estimators=100, random_state=20230916), df = X_train, df_y = y_train)"
   ]
  },
  {
   "cell_type": "code",
   "execution_count": 14,
   "id": "4d30a353-448c-405d-9a99-21182fe749fd",
   "metadata": {},
   "outputs": [
    {
     "name": "stdout",
     "output_type": "stream",
     "text": [
      "Duration for training the model: 0.39 seconds.\n",
      "Average accuracy score across folds: 0.8131\n"
     ]
    }
   ],
   "source": [
    "k_neighbors_classifier = cv_score_classifier(KNeighborsClassifier(n_neighbors=3), df = X_train, df_y = y_train)"
   ]
  },
  {
   "cell_type": "code",
   "execution_count": 15,
   "id": "bb76d026-defd-48b0-8fd5-9c68fab85808",
   "metadata": {},
   "outputs": [
    {
     "name": "stdout",
     "output_type": "stream",
     "text": [
      "Duration for training the model: 0.17 seconds.\n",
      "Average accuracy score across folds: 0.7895\n"
     ]
    }
   ],
   "source": [
    "decision_tree_classifier = cv_score_classifier(DecisionTreeClassifier(random_state=20230916), df = X_train, df_y = y_train)"
   ]
  },
  {
   "cell_type": "code",
   "execution_count": 16,
   "id": "925f1dc8-47b7-40b3-8e00-9ad33a59f9d9",
   "metadata": {},
   "outputs": [
    {
     "name": "stdout",
     "output_type": "stream",
     "text": [
      "Duration for training the model: 1.23 seconds.\n",
      "Average accuracy score across folds: 0.8400\n"
     ]
    }
   ],
   "source": [
    "xgb_classifier = cv_score_classifier(XGBClassifier(random_state=20230916), df = X_train, df_y = y_train)"
   ]
  },
  {
   "cell_type": "code",
   "execution_count": 17,
   "id": "f09c6b5e-b224-4677-a1bf-9102cbb2166c",
   "metadata": {},
   "outputs": [],
   "source": [
    "dictionary_classifier = {\n",
    "    \"RandomForestClassifier\": random_forest_classifier,\n",
    "    \"KNeighborsClassifier\": k_neighbors_classifier,\n",
    "    \"DecisionTreeClassifier\": decision_tree_classifier,\n",
    "    \"XGBClassifier\": xgb_classifier,\n",
    "}"
   ]
  },
  {
   "cell_type": "code",
   "execution_count": 18,
   "id": "4c65a314-be15-4144-a0a7-ce920eb54ae0",
   "metadata": {},
   "outputs": [],
   "source": [
    "results_df = pd.DataFrame(dictionary_classifier)"
   ]
  },
  {
   "cell_type": "code",
   "execution_count": 19,
   "id": "90162c9a-e3d5-4101-be62-976669bf5a73",
   "metadata": {},
   "outputs": [
    {
     "data": {
      "image/png": "[encoded data removed]",
      "text/plain": [
       "<Figure size 640x480 with 1 Axes>"
      ]
     },
     "metadata": {},
     "output_type": "display_data"
    }
   ],
   "source": [
    "results_df.plot(y=list(dictionary_classifier), kind=\"bar\", legend=False)\n",
    "plt.legend(bbox_to_anchor=(1, 1), loc=2, borderaxespad=0.)\n",
    "plt.show()"
   ]
  },
  {
   "cell_type": "markdown",
   "id": "3015c007-f316-4c1c-8a26-5cd18399aefa",
   "metadata": {},
   "source": [
    "## Stacking model\n",
    "\n",
    "We now see the performance of the combination of the models:"
   ]
  },
  {
   "cell_type": "code",
   "execution_count": 20,
   "id": "28c0a749-0009-4efe-a483-d92487ed2ac7",
   "metadata": {},
   "outputs": [],
   "source": [
    "# Base models\n",
    "estimators = [\n",
    "    ('rf', RandomForestClassifier(n_estimators=100, random_state=20230916)),\n",
    "    ('knr', KNeighborsClassifier(n_neighbors=3)),\n",
    "    ('dt', DecisionTreeClassifier(random_state=20230916)),\n",
    "    ('xgb', XGBClassifier(random_state=20230916)),\n",
    "]\n",
    "\n",
    "# Meta-model\n",
    "meta_model = LogisticRegression()\n",
    "\n",
    "# Stacking classifier\n",
    "stacking_clf = StackingClassifier(estimators=estimators, \n",
    "                                  final_estimator=meta_model,\n",
    "                                  cv=5)\n",
    "\n",
    "# Fit the model\n",
    "stacking_clf.fit(X_train, y_train)\n",
    "\n",
    "# Make predictions\n",
    "y_pred = stacking_clf.predict(X_validation)"
   ]
  },
  {
   "cell_type": "markdown",
   "id": "bd28841b-e784-4bf7-b830-ba52fb2b944a",
   "metadata": {},
   "source": [
    "We now inroduce a classification metrics definition, which it will help us to understand the performance of each model."
   ]
  },
  {
   "cell_type": "code",
   "execution_count": 21,
   "id": "aa7d7927-929f-4aa7-94e8-ebc50149ca05",
   "metadata": {},
   "outputs": [],
   "source": [
    "def print_classification_metrics(y_true, y_pred, model_name=\"Model\"):\n",
    "    accuracy = accuracy_score(y_true, y_pred)\n",
    "    precision = precision_score(y_true, y_pred, average='weighted')\n",
    "    recall = recall_score(y_true, y_pred, average='weighted')\n",
    "    f1 = f1_score(y_true, y_pred, average='weighted')\n",
    "    \n",
    "    print(f\"{model_name} Metrics on Validation Set:\")\n",
    "    print(f\"  Accuracy: {accuracy:.4f}\")\n",
    "    print(f\"  Precision: {precision:.4f}\")\n",
    "    print(f\"  Recall: {recall:.4f}\")\n",
    "    print(f\"  F1 Score: {f1:.4f}\")\n",
    "    print(\"-\" * 40)\n",
    "    print(\"Classification Report:\")\n",
    "    print(classification_report(y_true, y_pred))"
   ]
  },
  {
   "cell_type": "code",
   "execution_count": 22,
   "id": "290a26d2-fb08-4820-a604-e21cd0805e94",
   "metadata": {},
   "outputs": [
    {
     "name": "stdout",
     "output_type": "stream",
     "text": [
      "Stacking Classifier Metrics on Validation Set:\n",
      "  Accuracy: 0.8427\n",
      "  Precision: 0.8395\n",
      "  Recall: 0.8427\n",
      "  F1 Score: 0.8407\n",
      "----------------------------------------\n",
      "Classification Report:\n",
      "              precision    recall  f1-score   support\n",
      "\n",
      "           0       0.89      0.91      0.90      1085\n",
      "           1       0.62      0.51      0.56       108\n",
      "           2       0.78      0.77      0.77       492\n",
      "\n",
      "    accuracy                           0.84      1685\n",
      "   macro avg       0.76      0.73      0.74      1685\n",
      "weighted avg       0.84      0.84      0.84      1685\n",
      "\n",
      "rf Metrics on Validation Set:\n",
      "  Accuracy: 0.8445\n",
      "  Precision: 0.8418\n",
      "  Recall: 0.8445\n",
      "  F1 Score: 0.8428\n",
      "----------------------------------------\n",
      "Classification Report:\n",
      "              precision    recall  f1-score   support\n",
      "\n",
      "           0       0.89      0.91      0.90      1085\n",
      "           1       0.65      0.56      0.60       108\n",
      "           2       0.78      0.77      0.78       492\n",
      "\n",
      "    accuracy                           0.84      1685\n",
      "   macro avg       0.77      0.74      0.76      1685\n",
      "weighted avg       0.84      0.84      0.84      1685\n",
      "\n",
      "knr Metrics on Validation Set:\n",
      "  Accuracy: 0.8172\n",
      "  Precision: 0.8121\n",
      "  Recall: 0.8172\n",
      "  F1 Score: 0.8141\n",
      "----------------------------------------\n",
      "Classification Report:\n",
      "              precision    recall  f1-score   support\n",
      "\n",
      "           0       0.87      0.90      0.88      1085\n",
      "           1       0.52      0.44      0.47       108\n",
      "           2       0.75      0.72      0.73       492\n",
      "\n",
      "    accuracy                           0.82      1685\n",
      "   macro avg       0.71      0.68      0.70      1685\n",
      "weighted avg       0.81      0.82      0.81      1685\n",
      "\n",
      "dt Metrics on Validation Set:\n",
      "  Accuracy: 0.7917\n",
      "  Precision: 0.7935\n",
      "  Recall: 0.7917\n",
      "  F1 Score: 0.7925\n",
      "----------------------------------------\n",
      "Classification Report:\n",
      "              precision    recall  f1-score   support\n",
      "\n",
      "           0       0.87      0.86      0.87      1085\n",
      "           1       0.49      0.52      0.50       108\n",
      "           2       0.69      0.70      0.69       492\n",
      "\n",
      "    accuracy                           0.79      1685\n",
      "   macro avg       0.68      0.69      0.69      1685\n",
      "weighted avg       0.79      0.79      0.79      1685\n",
      "\n",
      "xgb Metrics on Validation Set:\n",
      "  Accuracy: 0.8362\n",
      "  Precision: 0.8331\n",
      "  Recall: 0.8362\n",
      "  F1 Score: 0.8344\n",
      "----------------------------------------\n",
      "Classification Report:\n",
      "              precision    recall  f1-score   support\n",
      "\n",
      "           0       0.88      0.90      0.89      1085\n",
      "           1       0.60      0.52      0.55       108\n",
      "           2       0.77      0.76      0.76       492\n",
      "\n",
      "    accuracy                           0.84      1685\n",
      "   macro avg       0.75      0.73      0.74      1685\n",
      "weighted avg       0.83      0.84      0.83      1685\n",
      "\n"
     ]
    }
   ],
   "source": [
    "y_pred_stack = stacking_clf.predict(X_validation)\n",
    "print_classification_metrics(y_validation, y_pred_stack, model_name=\"Stacking Classifier\")\n",
    "\n",
    "for name, model in estimators:\n",
    "    model.fit(X_train, y_train)  # Fit the base model on the training data\n",
    "    y_pred = model.predict(X_validation)  # Predict on the validation data\n",
    "    print_classification_metrics(y_validation, y_pred, model_name=name)"
   ]
  },
  {
   "cell_type": "markdown",
   "id": "3bddb1f2-0e4a-4817-908e-b535ab33cc9c",
   "metadata": {},
   "source": [
    "We observe that stacking several models provide a final predictor model. However, one of the limitations of stacking is that it is not possible to verify the feature importances behind the model."
   ]
  },
  {
   "cell_type": "markdown",
   "id": "a259c15b-9505-47dc-b73f-0e1c59d555d4",
   "metadata": {},
   "source": [
    "# Hyperparameter Tunning"
   ]
  },
  {
   "cell_type": "code",
   "execution_count": 23,
   "id": "3e004f61-5db1-4ae3-8242-3c706bb741c1",
   "metadata": {},
   "outputs": [],
   "source": [
    "RANDOM_SEED = 20230916"
   ]
  },
  {
   "cell_type": "markdown",
   "id": "c7142fac-837a-47a3-92c9-78c9d53706ce",
   "metadata": {},
   "source": [
    "## RandomForestClassifier"
   ]
  },
  {
   "cell_type": "code",
   "execution_count": 24,
   "id": "b8506566-5cb7-47ff-9f23-47c5fbc40544",
   "metadata": {},
   "outputs": [],
   "source": [
    "# RandomForestClassifier\n",
    "rf = RandomForestClassifier(random_state=RANDOM_SEED)\n",
    "param_grid_forest = {\n",
    "    \"n_estimators\": [100, 200, 300],\n",
    "    \"max_depth\": [5, 10, 15],\n",
    "    \"max_leaf_nodes\": [50, 100],\n",
    "}\n",
    "\n",
    "grid_forest = GridSearchCV(\n",
    "    estimator=rf, param_grid=param_grid_forest, cv=5, n_jobs=-1, scoring=\"accuracy\", verbose=0\n",
    ")\n",
    "\n",
    "model_forest = grid_forest.fit(X_train, y_train)"
   ]
  },
  {
   "cell_type": "markdown",
   "id": "045eef96-0aba-4f57-a09a-3263a871eb5e",
   "metadata": {},
   "source": [
    "The associated metrics to the model are:"
   ]
  },
  {
   "cell_type": "code",
   "execution_count": 25,
   "id": "a07919df-d32a-4a5f-96cb-4e4e5de2ef39",
   "metadata": {},
   "outputs": [
    {
     "name": "stdout",
     "output_type": "stream",
     "text": [
      "RandomForestClassifier Metrics on Validation Set:\n",
      "  Accuracy: 0.8113\n",
      "  Precision: 0.8047\n",
      "  Recall: 0.8113\n",
      "  F1 Score: 0.8066\n",
      "----------------------------------------\n",
      "Classification Report:\n",
      "              precision    recall  f1-score   support\n",
      "\n",
      "           0       0.86      0.91      0.88      1085\n",
      "           1       0.61      0.47      0.53       108\n",
      "           2       0.73      0.67      0.70       492\n",
      "\n",
      "    accuracy                           0.81      1685\n",
      "   macro avg       0.73      0.68      0.70      1685\n",
      "weighted avg       0.80      0.81      0.81      1685\n",
      "\n"
     ]
    }
   ],
   "source": [
    "# Extract the best parameters for RandomForestClassifier\n",
    "best_params_forest = grid_forest.best_params_\n",
    "\n",
    "# Train the model with the best parameters\n",
    "best_model_forest = RandomForestClassifier(**best_params_forest, random_state=RANDOM_SEED)\n",
    "best_model_forest.fit(X_train, y_train)\n",
    "\n",
    "# Make predictions on the validation set\n",
    "y_pred_forest = best_model_forest.predict(X_validation)\n",
    "\n",
    "# Calculate and print metrics\n",
    "print_classification_metrics(y_validation, y_pred_forest, model_name=\"RandomForestClassifier\")"
   ]
  },
  {
   "cell_type": "markdown",
   "id": "c2ff5f1c-956e-4e80-beaa-b1f4d50f0fbd",
   "metadata": {},
   "source": [
    "## KNeighborsClassifier"
   ]
  },
  {
   "cell_type": "code",
   "execution_count": 26,
   "id": "9c65fcac-83b7-4f76-a1f1-90097a816f8b",
   "metadata": {},
   "outputs": [],
   "source": [
    "# KNeighborsClassifier\n",
    "knc = KNeighborsClassifier()\n",
    "param_grid_knc = {\n",
    "    \"n_neighbors\": [3, 5, 7],\n",
    "    \"weights\": [\"uniform\", \"distance\"],\n",
    "    \"algorithm\": [\"auto\", \"ball_tree\", \"kd_tree\", \"brute\"],\n",
    "}\n",
    "\n",
    "grid_knc = GridSearchCV(\n",
    "    estimator=knc, param_grid=param_grid_knc, cv=5, n_jobs=-1, scoring=\"accuracy\", verbose=0\n",
    ")\n",
    "\n",
    "model_knc = grid_knc.fit(X_train, y_train)"
   ]
  },
  {
   "cell_type": "markdown",
   "id": "27b0794b-ff6f-45f9-9165-0eb9b786a790",
   "metadata": {},
   "source": [
    "The associated metrics to the model are:"
   ]
  },
  {
   "cell_type": "code",
   "execution_count": 27,
   "id": "1f171383-df71-4783-b68d-5d12d4dda6df",
   "metadata": {},
   "outputs": [
    {
     "name": "stdout",
     "output_type": "stream",
     "text": [
      "KNeighborsClassifier Metrics on Validation Set:\n",
      "  Accuracy: 0.8160\n",
      "  Precision: 0.8132\n",
      "  Recall: 0.8160\n",
      "  F1 Score: 0.8144\n",
      "----------------------------------------\n",
      "Classification Report:\n",
      "              precision    recall  f1-score   support\n",
      "\n",
      "           0       0.87      0.90      0.89      1085\n",
      "           1       0.52      0.49      0.50       108\n",
      "           2       0.74      0.71      0.73       492\n",
      "\n",
      "    accuracy                           0.82      1685\n",
      "   macro avg       0.71      0.70      0.71      1685\n",
      "weighted avg       0.81      0.82      0.81      1685\n",
      "\n"
     ]
    }
   ],
   "source": [
    "from sklearn.neighbors import KNeighborsClassifier\n",
    "from sklearn.metrics import accuracy_score, precision_score, recall_score, f1_score, classification_report\n",
    "\n",
    "# Step 1: Extract the best parameters for KNeighborsClassifier\n",
    "best_params_knc = grid_knc.best_params_\n",
    "\n",
    "# Step 2: Train the model with the best parameters\n",
    "best_model_knc = KNeighborsClassifier(**best_params_knc)\n",
    "best_model_knc.fit(X_train, y_train)\n",
    "\n",
    "# Step 3: Make predictions on the validation set\n",
    "y_pred_knc = best_model_knc.predict(X_validation)\n",
    "\n",
    "# Print the metrics for the KNeighborsClassifier\n",
    "print_classification_metrics(y_validation, y_pred_knc, model_name=\"KNeighborsClassifier\")"
   ]
  },
  {
   "cell_type": "markdown",
   "id": "cde463bd-aff0-41ae-82da-597cd8d30381",
   "metadata": {},
   "source": [
    "## DecisionTreeClassifier"
   ]
  },
  {
   "cell_type": "code",
   "execution_count": 28,
   "id": "b9f2ade7-c871-4b31-b9dd-b1ad8b38f2a0",
   "metadata": {},
   "outputs": [],
   "source": [
    "dt = DecisionTreeClassifier(random_state=RANDOM_SEED)\n",
    "param_grid_dt = {\n",
    "    \"max_depth\": [5, 10, 15],\n",
    "    \"min_samples_split\": [2, 5, 10],\n",
    "    \"min_samples_leaf\": [1, 2, 4],\n",
    "    \"max_leaf_nodes\": [50, 100, None],\n",
    "}\n",
    "\n",
    "grid_dt = GridSearchCV(\n",
    "    estimator=dt, param_grid=param_grid_dt, cv=5, n_jobs=-1, scoring=\"accuracy\", verbose=0\n",
    ")\n",
    "\n",
    "model_dt = grid_dt.fit(X_train, y_train)"
   ]
  },
  {
   "cell_type": "code",
   "execution_count": 29,
   "id": "ac3cfb00-17a6-4550-bbb9-cbd87fa31745",
   "metadata": {},
   "outputs": [
    {
     "name": "stdout",
     "output_type": "stream",
     "text": [
      "DecisionTreeClassifier Metrics on Validation Set:\n",
      "  Accuracy: 0.8148\n",
      "  Precision: 0.8188\n",
      "  Recall: 0.8148\n",
      "  F1 Score: 0.8163\n",
      "----------------------------------------\n",
      "Classification Report:\n",
      "              precision    recall  f1-score   support\n",
      "\n",
      "           0       0.89      0.88      0.88      1085\n",
      "           1       0.52      0.65      0.58       108\n",
      "           2       0.73      0.70      0.72       492\n",
      "\n",
      "    accuracy                           0.81      1685\n",
      "   macro avg       0.71      0.74      0.73      1685\n",
      "weighted avg       0.82      0.81      0.82      1685\n",
      "\n"
     ]
    }
   ],
   "source": [
    "best_params_dt = grid_dt.best_params_\n",
    "\n",
    "best_model_dt = DecisionTreeClassifier(**best_params_dt, random_state=RANDOM_SEED)\n",
    "best_model_dt.fit(X_train, y_train)\n",
    "\n",
    "y_pred_dt = best_model_dt.predict(X_validation)\n",
    "\n",
    "print_classification_metrics(y_validation, y_pred_dt, model_name=\"DecisionTreeClassifier\")"
   ]
  },
  {
   "cell_type": "markdown",
   "id": "0ff8388d-1b03-49e1-bd16-a34810db12a9",
   "metadata": {},
   "source": [
    "## XGBClassifier"
   ]
  },
  {
   "cell_type": "code",
   "execution_count": 30,
   "id": "d7076052-6c5d-42c3-be80-1d5583d03ca3",
   "metadata": {},
   "outputs": [],
   "source": [
    "xgb = XGBClassifier(random_state=RANDOM_SEED)\n",
    "param_grid_xgb = {\n",
    "    \"n_estimators\": [100, 200, 300],\n",
    "    \"max_depth\": [3, 5, 7],\n",
    "    \"learning_rate\": [0.01, 0.1, 0.2],\n",
    "    \"subsample\": [0.8, 1.0],\n",
    "    \"colsample_bytree\": [0.8, 1.0],\n",
    "}\n",
    "\n",
    "grid_xgb = GridSearchCV(\n",
    "    estimator=xgb, param_grid=param_grid_xgb, cv=5, n_jobs=-1, scoring=\"accuracy\", verbose=0\n",
    ")\n",
    "\n",
    "model_xgb = grid_xgb.fit(X_train, y_train)"
   ]
  },
  {
   "cell_type": "code",
   "execution_count": 31,
   "id": "4b20842d-9766-494d-91df-d9df11dac5a0",
   "metadata": {},
   "outputs": [
    {
     "name": "stdout",
     "output_type": "stream",
     "text": [
      "XGBClassifier Metrics on Validation Set:\n",
      "  Accuracy: 0.8487\n",
      "  Precision: 0.8474\n",
      "  Recall: 0.8487\n",
      "  F1 Score: 0.8479\n",
      "----------------------------------------\n",
      "Classification Report:\n",
      "              precision    recall  f1-score   support\n",
      "\n",
      "           0       0.90      0.91      0.90      1085\n",
      "           1       0.64      0.56      0.60       108\n",
      "           2       0.77      0.79      0.78       492\n",
      "\n",
      "    accuracy                           0.85      1685\n",
      "   macro avg       0.77      0.75      0.76      1685\n",
      "weighted avg       0.85      0.85      0.85      1685\n",
      "\n"
     ]
    }
   ],
   "source": [
    "best_params_xgb = grid_xgb.best_params_\n",
    "\n",
    "best_model_xgb = XGBClassifier(**best_params_xgb, random_state=RANDOM_SEED)\n",
    "best_model_xgb.fit(X_train, y_train)\n",
    "\n",
    "y_pred_xgb = best_model_xgb.predict(X_validation)\n",
    "\n",
    "print_classification_metrics(y_validation, y_pred_xgb, model_name=\"XGBClassifier\")"
   ]
  },
  {
   "cell_type": "markdown",
   "id": "84c036bc-9edd-4ca8-a1a1-48c18daabbf2",
   "metadata": {},
   "source": [
    "## Comparing visually the different models"
   ]
  },
  {
   "cell_type": "code",
   "execution_count": 32,
   "id": "9acef64f-0c41-47bc-8e8f-707bea1bf91c",
   "metadata": {},
   "outputs": [
    {
     "data": {
      "image/png": "[encoded data removed]",
      "text/plain": [
       "<Figure size 1400x800 with 4 Axes>"
      ]
     },
     "metadata": {},
     "output_type": "display_data"
    }
   ],
   "source": [
    "model_names = []\n",
    "accuracy_scores = []\n",
    "precision_scores = []\n",
    "recall_scores = []\n",
    "f1_scores = []\n",
    "roc_auc_scores = []\n",
    "\n",
    "def calculate_and_store_metrics(model_name, y_true, y_pred):\n",
    "    model_names.append(model_name)\n",
    "    accuracy_scores.append(accuracy_score(y_true, y_pred))\n",
    "    precision_scores.append(precision_score(y_true, y_pred, average='weighted'))\n",
    "    recall_scores.append(recall_score(y_true, y_pred, average='weighted'))\n",
    "    f1_scores.append(f1_score(y_true, y_pred, average='weighted'))\n",
    "    \n",
    "calculate_and_store_metrics(\"RandomForestClassifier\", y_validation, y_pred_forest)\n",
    "calculate_and_store_metrics(\"KNeighborsClassifier\", y_validation, y_pred_knc)\n",
    "calculate_and_store_metrics(\"DecisionTreeClassifier\", y_validation, y_pred_dt)\n",
    "calculate_and_store_metrics(\"XGBClassifier\", y_validation, y_pred_xgb)\n",
    "\n",
    "metrics_df = pd.DataFrame({\n",
    "    \"Model\": model_names,\n",
    "    \"Accuracy\": accuracy_scores,\n",
    "    \"Precision\": precision_scores,\n",
    "    \"Recall\": recall_scores,\n",
    "    \"F1 Score\": f1_scores\n",
    "})\n",
    "\n",
    "# Set up the matplotlib figure\n",
    "plt.figure(figsize=(14, 8))\n",
    "\n",
    "# Plot Accuracy\n",
    "plt.subplot(2, 2, 1)\n",
    "sns.barplot(x=\"Model\", y=\"Accuracy\", data=metrics_df)\n",
    "plt.title(\"Accuracy\")\n",
    "plt.xticks(rotation=45)\n",
    "\n",
    "# Plot Precision\n",
    "plt.subplot(2, 2, 2)\n",
    "sns.barplot(x=\"Model\", y=\"Precision\", data=metrics_df)\n",
    "plt.title(\"Precision\")\n",
    "plt.xticks(rotation=45)\n",
    "\n",
    "# Plot Recall\n",
    "plt.subplot(2, 2, 3)\n",
    "sns.barplot(x=\"Model\", y=\"Recall\", data=metrics_df)\n",
    "plt.title(\"Recall\")\n",
    "plt.xticks(rotation=45)\n",
    "\n",
    "# Plot F1 Score\n",
    "plt.subplot(2, 2, 4)\n",
    "sns.barplot(x=\"Model\", y=\"F1 Score\", data=metrics_df)\n",
    "plt.title(\"F1 Score\")\n",
    "plt.xticks(rotation=45)\n",
    "\n",
    "# Adjust layout\n",
    "plt.tight_layout()\n",
    "\n",
    "# Show the plots\n",
    "plt.show()"
   ]
  },
  {
   "cell_type": "markdown",
   "id": "23b1078a-c7b3-467b-b0bf-e59cce141e38",
   "metadata": {},
   "source": [
    "We note that in fact, the XGBClassifier model has the best performance."
   ]
  },
  {
   "cell_type": "markdown",
   "id": "3459c4a3-38e3-4ca0-bfb2-f272d6b325fd",
   "metadata": {},
   "source": [
    "## Test set performance of the models\n",
    "\n",
    "For the test set we verify our results in order to avoid overfitting of bad choices of the best models."
   ]
  },
  {
   "cell_type": "code",
   "execution_count": 33,
   "id": "2af440f3-1ac5-4984-850b-200db69a6f62",
   "metadata": {},
   "outputs": [],
   "source": [
    "# Invoking the prepared data\n",
    "\n",
    "df_test = pd.read_csv('test.csv')"
   ]
  },
  {
   "cell_type": "code",
   "execution_count": 34,
   "id": "8c0464ae-dbc8-47e7-a7a3-0a441f6cbb23",
   "metadata": {},
   "outputs": [],
   "source": [
    "X_test = df_test.drop(['NO2(GT)_winsor', 'air_quality'], axis=1)"
   ]
  },
  {
   "cell_type": "code",
   "execution_count": 35,
   "id": "526c2e79-b715-4179-8e00-a689f7136500",
   "metadata": {},
   "outputs": [],
   "source": [
    "y_test = df_test['air_quality']"
   ]
  },
  {
   "cell_type": "code",
   "execution_count": 36,
   "id": "ea09b6f4-0014-4d62-a12b-b82bba989171",
   "metadata": {},
   "outputs": [],
   "source": [
    "le = LabelEncoder()\n",
    "y_test = le.fit_transform(y_test)"
   ]
  },
  {
   "cell_type": "code",
   "execution_count": 37,
   "id": "ba97c58c-63f2-4a1c-8e2e-727203005f1f",
   "metadata": {},
   "outputs": [
    {
     "name": "stdout",
     "output_type": "stream",
     "text": [
      "RandomForestClassifier Metrics on Validation Set:\n",
      "  Accuracy: 0.8162\n",
      "  Precision: 0.8061\n",
      "  Recall: 0.8162\n",
      "  F1 Score: 0.8083\n",
      "----------------------------------------\n",
      "Classification Report:\n",
      "              precision    recall  f1-score   support\n",
      "\n",
      "           0       0.86      0.92      0.89       620\n",
      "           1       0.60      0.37      0.45        68\n",
      "           2       0.72      0.67      0.69       248\n",
      "\n",
      "    accuracy                           0.82       936\n",
      "   macro avg       0.73      0.65      0.68       936\n",
      "weighted avg       0.81      0.82      0.81       936\n",
      "\n",
      "KNeighborsClassifier Metrics on Validation Set:\n",
      "  Accuracy: 0.8333\n",
      "  Precision: 0.8297\n",
      "  Recall: 0.8333\n",
      "  F1 Score: 0.8312\n",
      "----------------------------------------\n",
      "Classification Report:\n",
      "              precision    recall  f1-score   support\n",
      "\n",
      "           0       0.89      0.91      0.90       620\n",
      "           1       0.60      0.51      0.56        68\n",
      "           2       0.73      0.72      0.73       248\n",
      "\n",
      "    accuracy                           0.83       936\n",
      "   macro avg       0.74      0.72      0.73       936\n",
      "weighted avg       0.83      0.83      0.83       936\n",
      "\n",
      "DecisionTreeClassifier Metrics on Validation Set:\n",
      "  Accuracy: 0.8248\n",
      "  Precision: 0.8223\n",
      "  Recall: 0.8248\n",
      "  F1 Score: 0.8234\n",
      "----------------------------------------\n",
      "Classification Report:\n",
      "              precision    recall  f1-score   support\n",
      "\n",
      "           0       0.89      0.90      0.90       620\n",
      "           1       0.59      0.57      0.58        68\n",
      "           2       0.73      0.69      0.71       248\n",
      "\n",
      "    accuracy                           0.82       936\n",
      "   macro avg       0.73      0.72      0.73       936\n",
      "weighted avg       0.82      0.82      0.82       936\n",
      "\n",
      "XGBClassifier Metrics on Validation Set:\n",
      "  Accuracy: 0.8419\n",
      "  Precision: 0.8383\n",
      "  Recall: 0.8419\n",
      "  F1 Score: 0.8397\n",
      "----------------------------------------\n",
      "Classification Report:\n",
      "              precision    recall  f1-score   support\n",
      "\n",
      "           0       0.89      0.92      0.90       620\n",
      "           1       0.63      0.56      0.59        68\n",
      "           2       0.76      0.73      0.74       248\n",
      "\n",
      "    accuracy                           0.84       936\n",
      "   macro avg       0.76      0.74      0.75       936\n",
      "weighted avg       0.84      0.84      0.84       936\n",
      "\n"
     ]
    }
   ],
   "source": [
    "y_test_pred_forest = best_model_forest.predict(X_test)\n",
    "print_classification_metrics(y_test, y_test_pred_forest, model_name=\"RandomForestClassifier\")\n",
    "\n",
    "# KNeighborsClassifier\n",
    "y_test_pred_knc = best_model_knc.predict(X_test)\n",
    "print_classification_metrics(y_test, y_test_pred_knc, model_name=\"KNeighborsClassifier\")\n",
    "\n",
    "# DecisionTreeClassifier\n",
    "y_test_pred_dt = best_model_dt.predict(X_test)\n",
    "print_classification_metrics(y_test, y_test_pred_dt, model_name=\"DecisionTreeClassifier\")\n",
    "\n",
    "# XGBClassifier\n",
    "y_test_pred_xgb = best_model_xgb.predict(X_test)\n",
    "print_classification_metrics(y_test, y_test_pred_xgb, model_name=\"XGBClassifier\")"
   ]
  },
  {
   "cell_type": "markdown",
   "id": "a88d46e2-e33d-4bab-af10-4075f67793de",
   "metadata": {},
   "source": [
    "## Calculate and store the classification metrics"
   ]
  },
  {
   "cell_type": "code",
   "execution_count": 38,
   "id": "67c8202b-1e68-4d04-ba33-3c89effe8b4d",
   "metadata": {},
   "outputs": [],
   "source": [
    "# Function to calculate and store the classification metrics\n",
    "def calculate_and_store_test_metrics(model_name, y_true, y_pred):\n",
    "    test_accuracy_scores.append(accuracy_score(y_true, y_pred))\n",
    "    test_precision_scores.append(precision_score(y_true, y_pred, average='weighted'))\n",
    "    test_recall_scores.append(recall_score(y_true, y_pred, average='weighted'))\n",
    "    test_f1_scores.append(f1_score(y_true, y_pred, average='weighted'))"
   ]
  },
  {
   "cell_type": "code",
   "execution_count": 39,
   "id": "9911cc25-a5cb-4e0c-aef4-057fd3624381",
   "metadata": {},
   "outputs": [
    {
     "data": {
      "image/png": "[encoded data removed]",
      "text/plain": [
       "<Figure size 1400x1000 with 4 Axes>"
      ]
     },
     "metadata": {},
     "output_type": "display_data"
    }
   ],
   "source": [
    "# Initialize lists to store results for test set\n",
    "test_accuracy_scores = []\n",
    "test_precision_scores = []\n",
    "test_recall_scores = []\n",
    "test_f1_scores = []\n",
    "test_roc_auc_scores = []\n",
    "    \n",
    "# Make predictions and calculate metrics for the test set\n",
    "y_test_pred_forest = best_model_forest.predict(X_test)\n",
    "y_test_proba_forest = best_model_forest.predict_proba(X_test)\n",
    "calculate_and_store_test_metrics(\"RandomForestClassifier\", y_test, y_test_pred_forest)\n",
    "\n",
    "y_test_pred_knc = best_model_knc.predict(X_test)\n",
    "y_test_proba_knc = best_model_knc.predict_proba(X_test)\n",
    "calculate_and_store_test_metrics(\"KNeighborsClassifier\", y_test, y_test_pred_knc)\n",
    "\n",
    "y_test_pred_dt = best_model_dt.predict(X_test)\n",
    "y_test_proba_dt = best_model_dt.predict_proba(X_test)\n",
    "calculate_and_store_test_metrics(\"DecisionTreeClassifier\", y_test, y_test_pred_dt)\n",
    "\n",
    "y_test_pred_xgb = best_model_xgb.predict(X_test)\n",
    "y_test_proba_xgb = best_model_xgb.predict_proba(X_test)\n",
    "calculate_and_store_test_metrics(\"XGBClassifier\", y_test, y_test_pred_xgb)\n",
    "\n",
    "# Create a DataFrame for easier plotting\n",
    "test_metrics_df = pd.DataFrame({\n",
    "    \"Model\": [\"RandomForestClassifier\", \"KNeighborsClassifier\", \"DecisionTreeClassifier\", \"XGBClassifier\"],\n",
    "    \"Accuracy\": test_accuracy_scores,\n",
    "    \"Precision\": test_precision_scores,\n",
    "    \"Recall\": test_recall_scores,\n",
    "    \"F1 Score\": test_f1_scores,\n",
    "})\n",
    "\n",
    "# Plot the test set metrics\n",
    "plt.figure(figsize=(14, 10))\n",
    "\n",
    "# Plot Accuracy\n",
    "plt.subplot(2, 2, 1)\n",
    "sns.barplot(x=\"Model\", y=\"Accuracy\", data=test_metrics_df)\n",
    "plt.title(\"Test Set Accuracy\")\n",
    "plt.xticks(rotation=45)\n",
    "\n",
    "# Plot Precision\n",
    "plt.subplot(2, 2, 2)\n",
    "sns.barplot(x=\"Model\", y=\"Precision\", data=test_metrics_df)\n",
    "plt.title(\"Test Set Precision\")\n",
    "plt.xticks(rotation=45)\n",
    "\n",
    "# Plot Recall\n",
    "plt.subplot(2, 2, 3)\n",
    "sns.barplot(x=\"Model\", y=\"Recall\", data=test_metrics_df)\n",
    "plt.title(\"Test Set Recall\")\n",
    "plt.xticks(rotation=45)\n",
    "\n",
    "# Plot F1 Score\n",
    "plt.subplot(2, 2, 4)\n",
    "sns.barplot(x=\"Model\", y=\"F1 Score\", data=test_metrics_df)\n",
    "plt.title(\"Test Set F1 Score\")\n",
    "plt.xticks(rotation=45)\n",
    "\n",
    "# Adjust layout\n",
    "plt.tight_layout()\n",
    "\n",
    "# Show the plots\n",
    "plt.show()"
   ]
  },
  {
   "cell_type": "markdown",
   "id": "8776a69b-9d77-4716-b2a0-b3be755b891e",
   "metadata": {},
   "source": [
    "We deduce that, in fact, the `best` model corresponds to the XGBClassifier. "
   ]
  },
  {
   "cell_type": "markdown",
   "id": "8bc4f937-3c7d-4b15-8ea2-804b975960d3",
   "metadata": {},
   "source": [
    "## Feature importances"
   ]
  },
  {
   "cell_type": "code",
   "execution_count": 40,
   "id": "48247af7-fd00-46d9-8aa2-39faa89e8060",
   "metadata": {},
   "outputs": [
    {
     "data": {
      "image/png": "[encoded data removed]",
      "text/plain": [
       "<Figure size 1000x600 with 1 Axes>"
      ]
     },
     "metadata": {},
     "output_type": "display_data"
    }
   ],
   "source": [
    "# Assuming best_model_xgb is the trained XGBClassifier model\n",
    "\n",
    "# Extract feature importances\n",
    "feature_importances = best_model_xgb.feature_importances_\n",
    "\n",
    "# Create a DataFrame for better visualization\n",
    "importance_df = pd.DataFrame({\n",
    "    'Feature': list(X_train.columns),\n",
    "    'Importance': feature_importances\n",
    "})\n",
    "\n",
    "# Sort the DataFrame by importance\n",
    "importance_df = importance_df.sort_values(by='Importance', ascending=False)\n",
    "\n",
    "# Plot the feature importances\n",
    "plt.figure(figsize=(10, 6))\n",
    "plt.barh(importance_df['Feature'], importance_df['Importance'], color='skyblue')\n",
    "plt.xlabel('Feature Importance')\n",
    "plt.ylabel('Feature')\n",
    "plt.title('Feature Importances from XGBClassifier')\n",
    "plt.gca().invert_yaxis()  # Highest importance at the top\n",
    "plt.show()"
   ]
  },
  {
   "cell_type": "markdown",
   "id": "4696b6f4-e8fe-4937-95cd-c333c93c0676",
   "metadata": {},
   "source": [
    "## Stacking all the different `best` models"
   ]
  },
  {
   "cell_type": "code",
   "execution_count": 41,
   "id": "4917cf61-a034-4038-a9fb-8317d2d0ab70",
   "metadata": {},
   "outputs": [
    {
     "data": {
      "text/html": [
       "<style>#sk-container-id-1 {\n",
       "  /* Definition of color scheme common for light and dark mode */\n",
       "  --sklearn-color-text: black;\n",
       "  --sklearn-color-line: gray;\n",
       "  /* Definition of color scheme for unfitted estimators */\n",
       "  --sklearn-color-unfitted-level-0: #fff5e6;\n",
       "  --sklearn-color-unfitted-level-1: #f6e4d2;\n",
       "  --sklearn-color-unfitted-level-2: #ffe0b3;\n",
       "  --sklearn-color-unfitted-level-3: chocolate;\n",
       "  /* Definition of color scheme for fitted estimators */\n",
       "  --sklearn-color-fitted-level-0: #f0f8ff;\n",
       "  --sklearn-color-fitted-level-1: #d4ebff;\n",
       "  --sklearn-color-fitted-level-2: #b3dbfd;\n",
       "  --sklearn-color-fitted-level-3: cornflowerblue;\n",
       "\n",
       "  /* Specific color for light theme */\n",
       "  --sklearn-color-text-on-default-background: var(--sg-text-color, var(--theme-code-foreground, var(--jp-content-font-color1, black)));\n",
       "  --sklearn-color-background: var(--sg-background-color, var(--theme-background, var(--jp-layout-color0, white)));\n",
       "  --sklearn-color-border-box: var(--sg-text-color, var(--theme-code-foreground, var(--jp-content-font-color1, black)));\n",
       "  --sklearn-color-icon: #696969;\n",
       "\n",
       "  @media (prefers-color-scheme: dark) {\n",
       "    /* Redefinition of color scheme for dark theme */\n",
       "    --sklearn-color-text-on-default-background: var(--sg-text-color, var(--theme-code-foreground, var(--jp-content-font-color1, white)));\n",
       "    --sklearn-color-background: var(--sg-background-color, var(--theme-background, var(--jp-layout-color0, #111)));\n",
       "    --sklearn-color-border-box: var(--sg-text-color, var(--theme-code-foreground, var(--jp-content-font-color1, white)));\n",
       "    --sklearn-color-icon: #878787;\n",
       "  }\n",
       "}\n",
       "\n",
       "#sk-container-id-1 {\n",
       "  color: var(--sklearn-color-text);\n",
       "}\n",
       "\n",
       "#sk-container-id-1 pre {\n",
       "  padding: 0;\n",
       "}\n",
       "\n",
       "#sk-container-id-1 input.sk-hidden--visually {\n",
       "  border: 0;\n",
       "  clip: rect(1px 1px 1px 1px);\n",
       "  clip: rect(1px, 1px, 1px, 1px);\n",
       "  height: 1px;\n",
       "  margin: -1px;\n",
       "  overflow: hidden;\n",
       "  padding: 0;\n",
       "  position: absolute;\n",
       "  width: 1px;\n",
       "}\n",
       "\n",
       "#sk-container-id-1 div.sk-dashed-wrapped {\n",
       "  border: 1px dashed var(--sklearn-color-line);\n",
       "  margin: 0 0.4em 0.5em 0.4em;\n",
       "  box-sizing: border-box;\n",
       "  padding-bottom: 0.4em;\n",
       "  background-color: var(--sklearn-color-background);\n",
       "}\n",
       "\n",
       "#sk-container-id-1 div.sk-container {\n",
       "  /* jupyter's `normalize.less` sets `[hidden] { display: none; }`\n",
       "     but bootstrap.min.css set `[hidden] { display: none !important; }`\n",
       "     so we also need the `!important` here to be able to override the\n",
       "     default hidden behavior on the sphinx rendered scikit-learn.org.\n",
       "     See: https://github.com/scikit-learn/scikit-learn/issues/21755 */\n",
       "  display: inline-block !important;\n",
       "  position: relative;\n",
       "}\n",
       "\n",
       "#sk-container-id-1 div.sk-text-repr-fallback {\n",
       "  display: none;\n",
       "}\n",
       "\n",
       "div.sk-parallel-item,\n",
       "div.sk-serial,\n",
       "div.sk-item {\n",
       "  /* draw centered vertical line to link estimators */\n",
       "  background-image: linear-gradient(var(--sklearn-color-text-on-default-background), var(--sklearn-color-text-on-default-background));\n",
       "  background-size: 2px 100%;\n",
       "  background-repeat: no-repeat;\n",
       "  background-position: center center;\n",
       "}\n",
       "\n",
       "/* Parallel-specific style estimator block */\n",
       "\n",
       "#sk-container-id-1 div.sk-parallel-item::after {\n",
       "  content: \"\";\n",
       "  width: 100%;\n",
       "  border-bottom: 2px solid var(--sklearn-color-text-on-default-background);\n",
       "  flex-grow: 1;\n",
       "}\n",
       "\n",
       "#sk-container-id-1 div.sk-parallel {\n",
       "  display: flex;\n",
       "  align-items: stretch;\n",
       "  justify-content: center;\n",
       "  background-color: var(--sklearn-color-background);\n",
       "  position: relative;\n",
       "}\n",
       "\n",
       "#sk-container-id-1 div.sk-parallel-item {\n",
       "  display: flex;\n",
       "  flex-direction: column;\n",
       "}\n",
       "\n",
       "#sk-container-id-1 div.sk-parallel-item:first-child::after {\n",
       "  align-self: flex-end;\n",
       "  width: 50%;\n",
       "}\n",
       "\n",
       "#sk-container-id-1 div.sk-parallel-item:last-child::after {\n",
       "  align-self: flex-start;\n",
       "  width: 50%;\n",
       "}\n",
       "\n",
       "#sk-container-id-1 div.sk-parallel-item:only-child::after {\n",
       "  width: 0;\n",
       "}\n",
       "\n",
       "/* Serial-specific style estimator block */\n",
       "\n",
       "#sk-container-id-1 div.sk-serial {\n",
       "  display: flex;\n",
       "  flex-direction: column;\n",
       "  align-items: center;\n",
       "  background-color: var(--sklearn-color-background);\n",
       "  padding-right: 1em;\n",
       "  padding-left: 1em;\n",
       "}\n",
       "\n",
       "\n",
       "/* Toggleable style: style used for estimator/Pipeline/ColumnTransformer box that is\n",
       "clickable and can be expanded/collapsed.\n",
       "- Pipeline and ColumnTransformer use this feature and define the default style\n",
       "- Estimators will overwrite some part of the style using the `sk-estimator` class\n",
       "*/\n",
       "\n",
       "/* Pipeline and ColumnTransformer style (default) */\n",
       "\n",
       "#sk-container-id-1 div.sk-toggleable {\n",
       "  /* Default theme specific background. It is overwritten whether we have a\n",
       "  specific estimator or a Pipeline/ColumnTransformer */\n",
       "  background-color: var(--sklearn-color-background);\n",
       "}\n",
       "\n",
       "/* Toggleable label */\n",
       "#sk-container-id-1 label.sk-toggleable__label {\n",
       "  cursor: pointer;\n",
       "  display: block;\n",
       "  width: 100%;\n",
       "  margin-bottom: 0;\n",
       "  padding: 0.5em;\n",
       "  box-sizing: border-box;\n",
       "  text-align: center;\n",
       "}\n",
       "\n",
       "#sk-container-id-1 label.sk-toggleable__label-arrow:before {\n",
       "  /* Arrow on the left of the label */\n",
       "  content: \"▸\";\n",
       "  float: left;\n",
       "  margin-right: 0.25em;\n",
       "  color: var(--sklearn-color-icon);\n",
       "}\n",
       "\n",
       "#sk-container-id-1 label.sk-toggleable__label-arrow:hover:before {\n",
       "  color: var(--sklearn-color-text);\n",
       "}\n",
       "\n",
       "/* Toggleable content - dropdown */\n",
       "\n",
       "#sk-container-id-1 div.sk-toggleable__content {\n",
       "  max-height: 0;\n",
       "  max-width: 0;\n",
       "  overflow: hidden;\n",
       "  text-align: left;\n",
       "  /* unfitted */\n",
       "  background-color: var(--sklearn-color-unfitted-level-0);\n",
       "}\n",
       "\n",
       "#sk-container-id-1 div.sk-toggleable__content.fitted {\n",
       "  /* fitted */\n",
       "  background-color: var(--sklearn-color-fitted-level-0);\n",
       "}\n",
       "\n",
       "#sk-container-id-1 div.sk-toggleable__content pre {\n",
       "  margin: 0.2em;\n",
       "  border-radius: 0.25em;\n",
       "  color: var(--sklearn-color-text);\n",
       "  /* unfitted */\n",
       "  background-color: var(--sklearn-color-unfitted-level-0);\n",
       "}\n",
       "\n",
       "#sk-container-id-1 div.sk-toggleable__content.fitted pre {\n",
       "  /* unfitted */\n",
       "  background-color: var(--sklearn-color-fitted-level-0);\n",
       "}\n",
       "\n",
       "#sk-container-id-1 input.sk-toggleable__control:checked~div.sk-toggleable__content {\n",
       "  /* Expand drop-down */\n",
       "  max-height: 200px;\n",
       "  max-width: 100%;\n",
       "  overflow: auto;\n",
       "}\n",
       "\n",
       "#sk-container-id-1 input.sk-toggleable__control:checked~label.sk-toggleable__label-arrow:before {\n",
       "  content: \"▾\";\n",
       "}\n",
       "\n",
       "/* Pipeline/ColumnTransformer-specific style */\n",
       "\n",
       "#sk-container-id-1 div.sk-label input.sk-toggleable__control:checked~label.sk-toggleable__label {\n",
       "  color: var(--sklearn-color-text);\n",
       "  background-color: var(--sklearn-color-unfitted-level-2);\n",
       "}\n",
       "\n",
       "#sk-container-id-1 div.sk-label.fitted input.sk-toggleable__control:checked~label.sk-toggleable__label {\n",
       "  background-color: var(--sklearn-color-fitted-level-2);\n",
       "}\n",
       "\n",
       "/* Estimator-specific style */\n",
       "\n",
       "/* Colorize estimator box */\n",
       "#sk-container-id-1 div.sk-estimator input.sk-toggleable__control:checked~label.sk-toggleable__label {\n",
       "  /* unfitted */\n",
       "  background-color: var(--sklearn-color-unfitted-level-2);\n",
       "}\n",
       "\n",
       "#sk-container-id-1 div.sk-estimator.fitted input.sk-toggleable__control:checked~label.sk-toggleable__label {\n",
       "  /* fitted */\n",
       "  background-color: var(--sklearn-color-fitted-level-2);\n",
       "}\n",
       "\n",
       "#sk-container-id-1 div.sk-label label.sk-toggleable__label,\n",
       "#sk-container-id-1 div.sk-label label {\n",
       "  /* The background is the default theme color */\n",
       "  color: var(--sklearn-color-text-on-default-background);\n",
       "}\n",
       "\n",
       "/* On hover, darken the color of the background */\n",
       "#sk-container-id-1 div.sk-label:hover label.sk-toggleable__label {\n",
       "  color: var(--sklearn-color-text);\n",
       "  background-color: var(--sklearn-color-unfitted-level-2);\n",
       "}\n",
       "\n",
       "/* Label box, darken color on hover, fitted */\n",
       "#sk-container-id-1 div.sk-label.fitted:hover label.sk-toggleable__label.fitted {\n",
       "  color: var(--sklearn-color-text);\n",
       "  background-color: var(--sklearn-color-fitted-level-2);\n",
       "}\n",
       "\n",
       "/* Estimator label */\n",
       "\n",
       "#sk-container-id-1 div.sk-label label {\n",
       "  font-family: monospace;\n",
       "  font-weight: bold;\n",
       "  display: inline-block;\n",
       "  line-height: 1.2em;\n",
       "}\n",
       "\n",
       "#sk-container-id-1 div.sk-label-container {\n",
       "  text-align: center;\n",
       "}\n",
       "\n",
       "/* Estimator-specific */\n",
       "#sk-container-id-1 div.sk-estimator {\n",
       "  font-family: monospace;\n",
       "  border: 1px dotted var(--sklearn-color-border-box);\n",
       "  border-radius: 0.25em;\n",
       "  box-sizing: border-box;\n",
       "  margin-bottom: 0.5em;\n",
       "  /* unfitted */\n",
       "  background-color: var(--sklearn-color-unfitted-level-0);\n",
       "}\n",
       "\n",
       "#sk-container-id-1 div.sk-estimator.fitted {\n",
       "  /* fitted */\n",
       "  background-color: var(--sklearn-color-fitted-level-0);\n",
       "}\n",
       "\n",
       "/* on hover */\n",
       "#sk-container-id-1 div.sk-estimator:hover {\n",
       "  /* unfitted */\n",
       "  background-color: var(--sklearn-color-unfitted-level-2);\n",
       "}\n",
       "\n",
       "#sk-container-id-1 div.sk-estimator.fitted:hover {\n",
       "  /* fitted */\n",
       "  background-color: var(--sklearn-color-fitted-level-2);\n",
       "}\n",
       "\n",
       "/* Specification for estimator info (e.g. \"i\" and \"?\") */\n",
       "\n",
       "/* Common style for \"i\" and \"?\" */\n",
       "\n",
       ".sk-estimator-doc-link,\n",
       "a:link.sk-estimator-doc-link,\n",
       "a:visited.sk-estimator-doc-link {\n",
       "  float: right;\n",
       "  font-size: smaller;\n",
       "  line-height: 1em;\n",
       "  font-family: monospace;\n",
       "  background-color: var(--sklearn-color-background);\n",
       "  border-radius: 1em;\n",
       "  height: 1em;\n",
       "  width: 1em;\n",
       "  text-decoration: none !important;\n",
       "  margin-left: 1ex;\n",
       "  /* unfitted */\n",
       "  border: var(--sklearn-color-unfitted-level-1) 1pt solid;\n",
       "  color: var(--sklearn-color-unfitted-level-1);\n",
       "}\n",
       "\n",
       ".sk-estimator-doc-link.fitted,\n",
       "a:link.sk-estimator-doc-link.fitted,\n",
       "a:visited.sk-estimator-doc-link.fitted {\n",
       "  /* fitted */\n",
       "  border: var(--sklearn-color-fitted-level-1) 1pt solid;\n",
       "  color: var(--sklearn-color-fitted-level-1);\n",
       "}\n",
       "\n",
       "/* On hover */\n",
       "div.sk-estimator:hover .sk-estimator-doc-link:hover,\n",
       ".sk-estimator-doc-link:hover,\n",
       "div.sk-label-container:hover .sk-estimator-doc-link:hover,\n",
       ".sk-estimator-doc-link:hover {\n",
       "  /* unfitted */\n",
       "  background-color: var(--sklearn-color-unfitted-level-3);\n",
       "  color: var(--sklearn-color-background);\n",
       "  text-decoration: none;\n",
       "}\n",
       "\n",
       "div.sk-estimator.fitted:hover .sk-estimator-doc-link.fitted:hover,\n",
       ".sk-estimator-doc-link.fitted:hover,\n",
       "div.sk-label-container:hover .sk-estimator-doc-link.fitted:hover,\n",
       ".sk-estimator-doc-link.fitted:hover {\n",
       "  /* fitted */\n",
       "  background-color: var(--sklearn-color-fitted-level-3);\n",
       "  color: var(--sklearn-color-background);\n",
       "  text-decoration: none;\n",
       "}\n",
       "\n",
       "/* Span, style for the box shown on hovering the info icon */\n",
       ".sk-estimator-doc-link span {\n",
       "  display: none;\n",
       "  z-index: 9999;\n",
       "  position: relative;\n",
       "  font-weight: normal;\n",
       "  right: .2ex;\n",
       "  padding: .5ex;\n",
       "  margin: .5ex;\n",
       "  width: min-content;\n",
       "  min-width: 20ex;\n",
       "  max-width: 50ex;\n",
       "  color: var(--sklearn-color-text);\n",
       "  box-shadow: 2pt 2pt 4pt #999;\n",
       "  /* unfitted */\n",
       "  background: var(--sklearn-color-unfitted-level-0);\n",
       "  border: .5pt solid var(--sklearn-color-unfitted-level-3);\n",
       "}\n",
       "\n",
       ".sk-estimator-doc-link.fitted span {\n",
       "  /* fitted */\n",
       "  background: var(--sklearn-color-fitted-level-0);\n",
       "  border: var(--sklearn-color-fitted-level-3);\n",
       "}\n",
       "\n",
       ".sk-estimator-doc-link:hover span {\n",
       "  display: block;\n",
       "}\n",
       "\n",
       "/* \"?\"-specific style due to the `<a>` HTML tag */\n",
       "\n",
       "#sk-container-id-1 a.estimator_doc_link {\n",
       "  float: right;\n",
       "  font-size: 1rem;\n",
       "  line-height: 1em;\n",
       "  font-family: monospace;\n",
       "  background-color: var(--sklearn-color-background);\n",
       "  border-radius: 1rem;\n",
       "  height: 1rem;\n",
       "  width: 1rem;\n",
       "  text-decoration: none;\n",
       "  /* unfitted */\n",
       "  color: var(--sklearn-color-unfitted-level-1);\n",
       "  border: var(--sklearn-color-unfitted-level-1) 1pt solid;\n",
       "}\n",
       "\n",
       "#sk-container-id-1 a.estimator_doc_link.fitted {\n",
       "  /* fitted */\n",
       "  border: var(--sklearn-color-fitted-level-1) 1pt solid;\n",
       "  color: var(--sklearn-color-fitted-level-1);\n",
       "}\n",
       "\n",
       "/* On hover */\n",
       "#sk-container-id-1 a.estimator_doc_link:hover {\n",
       "  /* unfitted */\n",
       "  background-color: var(--sklearn-color-unfitted-level-3);\n",
       "  color: var(--sklearn-color-background);\n",
       "  text-decoration: none;\n",
       "}\n",
       "\n",
       "#sk-container-id-1 a.estimator_doc_link.fitted:hover {\n",
       "  /* fitted */\n",
       "  background-color: var(--sklearn-color-fitted-level-3);\n",
       "}\n",
       "</style><div id=\"sk-container-id-1\" class=\"sk-top-container\"><div class=\"sk-text-repr-fallback\"><pre>StackingClassifier(cv=5,\n",
       "                   estimators=[(&#x27;rf&#x27;,\n",
       "                                RandomForestClassifier(max_depth=15,\n",
       "                                                       max_leaf_nodes=100,\n",
       "                                                       n_estimators=200,\n",
       "                                                       random_state=20230916)),\n",
       "                               (&#x27;knr&#x27;,\n",
       "                                KNeighborsClassifier(n_neighbors=7,\n",
       "                                                     weights=&#x27;distance&#x27;)),\n",
       "                               (&#x27;dt&#x27;,\n",
       "                                DecisionTreeClassifier(max_depth=10,\n",
       "                                                       max_leaf_nodes=100,\n",
       "                                                       min_samples_split=5,\n",
       "                                                       random_state=20230916)),\n",
       "                               (&#x27;xgb&#x27;,\n",
       "                                XGBClassifier(base_score=None, booster...\n",
       "                                              interaction_constraints=None,\n",
       "                                              learning_rate=0.1, max_bin=None,\n",
       "                                              max_cat_threshold=None,\n",
       "                                              max_cat_to_onehot=None,\n",
       "                                              max_delta_step=None, max_depth=7,\n",
       "                                              max_leaves=None,\n",
       "                                              min_child_weight=None,\n",
       "                                              missing=nan,\n",
       "                                              monotone_constraints=None,\n",
       "                                              multi_strategy=None,\n",
       "                                              n_estimators=100, n_jobs=None,\n",
       "                                              num_parallel_tree=None,\n",
       "                                              random_state=20230916, ...))],\n",
       "                   final_estimator=LogisticRegression())</pre><b>In a Jupyter environment, please rerun this cell to show the HTML representation or trust the notebook. <br />On GitHub, the HTML representation is unable to render, please try loading this page with nbviewer.org.</b></div><div class=\"sk-container\" hidden><div class=\"sk-item sk-dashed-wrapped\"><div class=\"sk-label-container\"><div class=\"sk-label fitted sk-toggleable\"><input class=\"sk-toggleable__control sk-hidden--visually\" id=\"sk-estimator-id-1\" type=\"checkbox\" ><label for=\"sk-estimator-id-1\" class=\"sk-toggleable__label fitted sk-toggleable__label-arrow fitted\">&nbsp;&nbsp;StackingClassifier<a class=\"sk-estimator-doc-link fitted\" rel=\"noreferrer\" target=\"_blank\" href=\"https://scikit-learn.org/1.5/modules/generated/sklearn.ensemble.StackingClassifier.html\">?<span>Documentation for StackingClassifier</span></a><span class=\"sk-estimator-doc-link fitted\">i<span>Fitted</span></span></label><div class=\"sk-toggleable__content fitted\"><pre>StackingClassifier(cv=5,\n",
       "                   estimators=[(&#x27;rf&#x27;,\n",
       "                                RandomForestClassifier(max_depth=15,\n",
       "                                                       max_leaf_nodes=100,\n",
       "                                                       n_estimators=200,\n",
       "                                                       random_state=20230916)),\n",
       "                               (&#x27;knr&#x27;,\n",
       "                                KNeighborsClassifier(n_neighbors=7,\n",
       "                                                     weights=&#x27;distance&#x27;)),\n",
       "                               (&#x27;dt&#x27;,\n",
       "                                DecisionTreeClassifier(max_depth=10,\n",
       "                                                       max_leaf_nodes=100,\n",
       "                                                       min_samples_split=5,\n",
       "                                                       random_state=20230916)),\n",
       "                               (&#x27;xgb&#x27;,\n",
       "                                XGBClassifier(base_score=None, booster...\n",
       "                                              interaction_constraints=None,\n",
       "                                              learning_rate=0.1, max_bin=None,\n",
       "                                              max_cat_threshold=None,\n",
       "                                              max_cat_to_onehot=None,\n",
       "                                              max_delta_step=None, max_depth=7,\n",
       "                                              max_leaves=None,\n",
       "                                              min_child_weight=None,\n",
       "                                              missing=nan,\n",
       "                                              monotone_constraints=None,\n",
       "                                              multi_strategy=None,\n",
       "                                              n_estimators=100, n_jobs=None,\n",
       "                                              num_parallel_tree=None,\n",
       "                                              random_state=20230916, ...))],\n",
       "                   final_estimator=LogisticRegression())</pre></div> </div></div><div class=\"sk-serial\"><div class=\"sk-item\"><div class=\"sk-parallel\"><div class=\"sk-parallel-item\"><div class=\"sk-item\"><div class=\"sk-label-container\"><div class=\"sk-label fitted sk-toggleable\"><label>rf</label></div></div><div class=\"sk-serial\"><div class=\"sk-item\"><div class=\"sk-estimator fitted sk-toggleable\"><input class=\"sk-toggleable__control sk-hidden--visually\" id=\"sk-estimator-id-2\" type=\"checkbox\" ><label for=\"sk-estimator-id-2\" class=\"sk-toggleable__label fitted sk-toggleable__label-arrow fitted\">&nbsp;RandomForestClassifier<a class=\"sk-estimator-doc-link fitted\" rel=\"noreferrer\" target=\"_blank\" href=\"https://scikit-learn.org/1.5/modules/generated/sklearn.ensemble.RandomForestClassifier.html\">?<span>Documentation for RandomForestClassifier</span></a></label><div class=\"sk-toggleable__content fitted\"><pre>RandomForestClassifier(max_depth=15, max_leaf_nodes=100, n_estimators=200,\n",
       "                       random_state=20230916)</pre></div> </div></div></div></div></div><div class=\"sk-parallel-item\"><div class=\"sk-item\"><div class=\"sk-label-container\"><div class=\"sk-label fitted sk-toggleable\"><label>knr</label></div></div><div class=\"sk-serial\"><div class=\"sk-item\"><div class=\"sk-estimator fitted sk-toggleable\"><input class=\"sk-toggleable__control sk-hidden--visually\" id=\"sk-estimator-id-3\" type=\"checkbox\" ><label for=\"sk-estimator-id-3\" class=\"sk-toggleable__label fitted sk-toggleable__label-arrow fitted\">&nbsp;KNeighborsClassifier<a class=\"sk-estimator-doc-link fitted\" rel=\"noreferrer\" target=\"_blank\" href=\"https://scikit-learn.org/1.5/modules/generated/sklearn.neighbors.KNeighborsClassifier.html\">?<span>Documentation for KNeighborsClassifier</span></a></label><div class=\"sk-toggleable__content fitted\"><pre>KNeighborsClassifier(n_neighbors=7, weights=&#x27;distance&#x27;)</pre></div> </div></div></div></div></div><div class=\"sk-parallel-item\"><div class=\"sk-item\"><div class=\"sk-label-container\"><div class=\"sk-label fitted sk-toggleable\"><label>dt</label></div></div><div class=\"sk-serial\"><div class=\"sk-item\"><div class=\"sk-estimator fitted sk-toggleable\"><input class=\"sk-toggleable__control sk-hidden--visually\" id=\"sk-estimator-id-4\" type=\"checkbox\" ><label for=\"sk-estimator-id-4\" class=\"sk-toggleable__label fitted sk-toggleable__label-arrow fitted\">&nbsp;DecisionTreeClassifier<a class=\"sk-estimator-doc-link fitted\" rel=\"noreferrer\" target=\"_blank\" href=\"https://scikit-learn.org/1.5/modules/generated/sklearn.tree.DecisionTreeClassifier.html\">?<span>Documentation for DecisionTreeClassifier</span></a></label><div class=\"sk-toggleable__content fitted\"><pre>DecisionTreeClassifier(max_depth=10, max_leaf_nodes=100, min_samples_split=5,\n",
       "                       random_state=20230916)</pre></div> </div></div></div></div></div><div class=\"sk-parallel-item\"><div class=\"sk-item\"><div class=\"sk-label-container\"><div class=\"sk-label fitted sk-toggleable\"><label>xgb</label></div></div><div class=\"sk-serial\"><div class=\"sk-item\"><div class=\"sk-estimator fitted sk-toggleable\"><input class=\"sk-toggleable__control sk-hidden--visually\" id=\"sk-estimator-id-5\" type=\"checkbox\" ><label for=\"sk-estimator-id-5\" class=\"sk-toggleable__label fitted sk-toggleable__label-arrow fitted\">XGBClassifier</label><div class=\"sk-toggleable__content fitted\"><pre>XGBClassifier(base_score=None, booster=None, callbacks=None,\n",
       "              colsample_bylevel=None, colsample_bynode=None,\n",
       "              colsample_bytree=0.8, device=None, early_stopping_rounds=None,\n",
       "              enable_categorical=False, eval_metric=None, feature_types=None,\n",
       "              gamma=None, grow_policy=None, importance_type=None,\n",
       "              interaction_constraints=None, learning_rate=0.1, max_bin=None,\n",
       "              max_cat_threshold=None, max_cat_to_onehot=None,\n",
       "              max_delta_step=None, max_depth=7, max_leaves=None,\n",
       "              min_child_weight=None, missing=nan, monotone_constraints=None,\n",
       "              multi_strategy=None, n_estimators=100, n_jobs=None,\n",
       "              num_parallel_tree=None, random_state=20230916, ...)</pre></div> </div></div></div></div></div></div></div><div class=\"sk-item\"><div class=\"sk-parallel\"><div class=\"sk-parallel-item\"><div class=\"sk-item\"><div class=\"sk-label-container\"><div class=\"sk-label fitted sk-toggleable\"><label>final_estimator</label></div></div><div class=\"sk-serial\"><div class=\"sk-item\"><div class=\"sk-estimator fitted sk-toggleable\"><input class=\"sk-toggleable__control sk-hidden--visually\" id=\"sk-estimator-id-6\" type=\"checkbox\" ><label for=\"sk-estimator-id-6\" class=\"sk-toggleable__label fitted sk-toggleable__label-arrow fitted\">&nbsp;LogisticRegression<a class=\"sk-estimator-doc-link fitted\" rel=\"noreferrer\" target=\"_blank\" href=\"https://scikit-learn.org/1.5/modules/generated/sklearn.linear_model.LogisticRegression.html\">?<span>Documentation for LogisticRegression</span></a></label><div class=\"sk-toggleable__content fitted\"><pre>LogisticRegression()</pre></div> </div></div></div></div></div></div></div></div></div></div></div>"
      ],
      "text/plain": [
       "StackingClassifier(cv=5,\n",
       "                   estimators=[('rf',\n",
       "                                RandomForestClassifier(max_depth=15,\n",
       "                                                       max_leaf_nodes=100,\n",
       "                                                       n_estimators=200,\n",
       "                                                       random_state=20230916)),\n",
       "                               ('knr',\n",
       "                                KNeighborsClassifier(n_neighbors=7,\n",
       "                                                     weights='distance')),\n",
       "                               ('dt',\n",
       "                                DecisionTreeClassifier(max_depth=10,\n",
       "                                                       max_leaf_nodes=100,\n",
       "                                                       min_samples_split=5,\n",
       "                                                       random_state=20230916)),\n",
       "                               ('xgb',\n",
       "                                XGBClassifier(base_score=None, booster...\n",
       "                                              interaction_constraints=None,\n",
       "                                              learning_rate=0.1, max_bin=None,\n",
       "                                              max_cat_threshold=None,\n",
       "                                              max_cat_to_onehot=None,\n",
       "                                              max_delta_step=None, max_depth=7,\n",
       "                                              max_leaves=None,\n",
       "                                              min_child_weight=None,\n",
       "                                              missing=nan,\n",
       "                                              monotone_constraints=None,\n",
       "                                              multi_strategy=None,\n",
       "                                              n_estimators=100, n_jobs=None,\n",
       "                                              num_parallel_tree=None,\n",
       "                                              random_state=20230916, ...))],\n",
       "                   final_estimator=LogisticRegression())"
      ]
     },
     "execution_count": 41,
     "metadata": {},
     "output_type": "execute_result"
    }
   ],
   "source": [
    "# Define the base classifiers\n",
    "estimators = [\n",
    "    ('rf', RandomForestClassifier(**best_params_forest, random_state=RANDOM_SEED)),\n",
    "    ('knr', KNeighborsClassifier(**best_params_knc)),\n",
    "    ('dt', DecisionTreeClassifier(**best_params_dt, random_state=RANDOM_SEED)),\n",
    "    ('xgb', XGBClassifier(**best_params_xgb, random_state=RANDOM_SEED)),\n",
    "]\n",
    "\n",
    "# Define the meta-classifier (e.g., LogisticRegression)\n",
    "meta_model = LogisticRegression()\n",
    "\n",
    "# Create the stacking classifier\n",
    "stacking_classifier = StackingClassifier(estimators=estimators, final_estimator=meta_model, cv=5)\n",
    "stacking_classifier.fit(X_train, y_train)"
   ]
  },
  {
   "cell_type": "code",
   "execution_count": 42,
   "id": "d19ce138-440f-4afc-adb9-5bff85a04288",
   "metadata": {},
   "outputs": [],
   "source": [
    "y_validation_pred_stack = stacking_classifier.predict(X_validation)\n",
    "y_test_pred_stack = stacking_classifier.predict(X_test)"
   ]
  },
  {
   "cell_type": "code",
   "execution_count": 43,
   "id": "1b3be43e-35e6-461d-88dd-02a31e9104ab",
   "metadata": {},
   "outputs": [
    {
     "name": "stdout",
     "output_type": "stream",
     "text": [
      "Stacking Classifier Metrics on Validation Set:\n",
      "  Accuracy: 0.8439\n",
      "  Precision: 0.8412\n",
      "  Recall: 0.8439\n",
      "  F1 Score: 0.8422\n",
      "----------------------------------------\n",
      "Classification Report:\n",
      "              precision    recall  f1-score   support\n",
      "\n",
      "           0       0.89      0.91      0.90      1085\n",
      "           1       0.62      0.52      0.57       108\n",
      "           2       0.77      0.78      0.78       492\n",
      "\n",
      "    accuracy                           0.84      1685\n",
      "   macro avg       0.76      0.73      0.75      1685\n",
      "weighted avg       0.84      0.84      0.84      1685\n",
      "\n",
      "Stacking Classifier Metrics on Validation Set:\n",
      "  Accuracy: 0.8504\n",
      "  Precision: 0.8458\n",
      "  Recall: 0.8504\n",
      "  F1 Score: 0.8473\n",
      "----------------------------------------\n",
      "Classification Report:\n",
      "              precision    recall  f1-score   support\n",
      "\n",
      "           0       0.89      0.93      0.91       620\n",
      "           1       0.65      0.51      0.57        68\n",
      "           2       0.78      0.75      0.77       248\n",
      "\n",
      "    accuracy                           0.85       936\n",
      "   macro avg       0.77      0.73      0.75       936\n",
      "weighted avg       0.85      0.85      0.85       936\n",
      "\n"
     ]
    }
   ],
   "source": [
    "print_classification_metrics(y_validation, y_validation_pred_stack, model_name=\"Stacking Classifier\")\n",
    "print_classification_metrics(y_test, y_test_pred_stack, model_name=\"Stacking Classifier\")"
   ]
  },
  {
   "cell_type": "markdown",
   "id": "6d2eaa12-01ba-4cf1-a17d-79f65499d1e5",
   "metadata": {},
   "source": [
    "We finally note that we worst performance is associated with the minority class 1: `good`."
   ]
  },
  {
   "cell_type": "markdown",
   "id": "e26120c9-ece8-4518-8170-abc455690298",
   "metadata": {},
   "source": [
    "# Limitations of Air Quality Models\n",
    "## Data Quality and Availability:\n",
    "1. Incomplete data, for example, respect geolocation or vehicular traffic, or devices errors/calibrations can limit the accuracy of predictions.\n",
    "2. Lack of real-time data integration might affect the responsiveness of the model to sudden changes in air quality.\n",
    "3. Models might not adequately represent local variations if the spatial resolution is too coarse.\n",
    "## Possible Improvements\n",
    "1. Increase the spatial and temporal resolution of models to capture microclimates and rapid changes better.\n",
    "2. Use localized models for areas with significant human activity to get more accurate predictions for those regions.\n",
    "3. Include traffic data, industrial output, and even social media data for real-time incident reporting.\n",
    "4. Use advanced meteorological modeling to better understand and predict the impact of weather conditions.\n",
    "5. Develop an integrated system that combines air quality data with public health data to directly correlate pollution levels with health outcomes. Different data sources APIs, etc.\n",
    "6. Implement real-time data processing and predictive analytics to provide immediate warnings and updates.\n",
    "7. Leverage IoT and edge computing to process data closer to the source, reducing latency.\n",
    "# Technical requirements\n",
    "1. We would require MLOps frameworks to put in production such type of models.\n",
    "2. It would be important to consider a machine learning architecture to integrate the different data sources with the different stages of the production phase.\n",
    "3. Continuously monitoring of model performance and data distribution.\n",
    "4. Real-time or near-to-real-time responses, depending of the final bussiness goal, e.g. reduce the bad quality of air by locations, hours, etc.\n",
    "5. Track the different models in order to mabage the manage machine learning lifecycle;\n",
    "6. A/B Testing to verify that different models in fact preserve suitable metrics in real-world scenarios;\n",
    "7. Integration of different data sources;traffic, industrial outputs, and social media."
   ]
  },
  {
   "cell_type": "code",
   "execution_count": null,
   "id": "c7cba10e-11e1-4b97-a32a-22b59c7b9973",
   "metadata": {},
   "outputs": [],
   "source": []
  }
 ],
 "metadata": {
  "kernelspec": {
   "display_name": "pgd",
   "language": "python",
   "name": "pgd"
  },
  "language_info": {
   "codemirror_mode": {
    "name": "ipython",
    "version": 3
   },
   "file_extension": ".py",
   "mimetype": "text/x-python",
   "name": "python",
   "nbconvert_exporter": "python",
   "pygments_lexer": "ipython3",
   "version": "3.11.9"
  }
 },
 "nbformat": 4,
 "nbformat_minor": 5
}
