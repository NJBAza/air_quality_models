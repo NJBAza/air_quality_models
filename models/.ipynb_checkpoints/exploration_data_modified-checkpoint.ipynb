{
 "cells": [
  {
   "cell_type": "markdown",
   "id": "28bd9581",
   "metadata": {},
   "source": [
    "# Air Quality Data Exploration\n",
    "This notebook is focused on exploring the air quality data stored in a PostgreSQL database. We will:\n",
    "- Load the necessary libraries\n",
    "- Connect to the PostgreSQL database\n",
    "- Retrieve the air quality data into a pandas DataFrame\n",
    "- Perform initial data exploration and processing"
   ]
  },
  {
   "cell_type": "code",
   "execution_count": null,
   "id": "00ec239b",
   "metadata": {},
   "outputs": [],
   "source": [
    "# Import necessary libraries\n",
    "import warnings\n",
    "\n",
    "import pandas as pd\n",
    "import psycopg2\n",
    "from sklearn.model_selection import train_test_split\n",
    "from tqdm import tqdm\n",
    "import numpy as np\n",
    "\n",
    "# Visualization libraries\n",
    "import matplotlib.pyplot as plt\n",
    "import seaborn as sns\n",
    "from sklearn.preprocessing import StandardScaler\n",
    "from sklearn.preprocessing import MinMaxScaler\n",
    "\n",
    "# Suppress warnings for cleaner output\n",
    "warnings.filterwarnings('ignore')\n",
    "warnings.filterwarnings('ignore', category=DeprecationWarning)\n",
    "\n",
    "# Setting display options for pandas\n",
    "pd.set_option('display.max_rows', 500)\n",
    "pd.set_option('display.max_columns', 500)\n",
    "pd.set_option('display.width', 1000)\n"
   ]
  },
  {
   "cell_type": "markdown",
   "id": "28d793e6",
   "metadata": {},
   "source": [
    "## Connecting to the Database and Loading Data\n",
    "In this section, we establish a connection to the PostgreSQL database, execute a SQL query to retrieve air quality data, and store it in a pandas DataFrame."
   ]
  },
  {
   "cell_type": "code",
   "execution_count": null,
   "id": "5033bb40",
   "metadata": {},
   "outputs": [],
   "source": [
    "try:\n",
    "    # Establishing the connection to the PostgreSQL database\n",
    "    connection = psycopg2.connect(\n",
    "        dbname='AirQualityDB',\n",
    "        user='root',\n",
    "        password='root',\n",
    "        host='localhost',\n",
    "        port='5432'\n",
    "    )\n",
    "\n",
    "    # Using a cursor to execute a query\n",
    "    with connection.cursor() as cursor:\n",
    "        # Executing the SQL query to fetch all records from the AirQuality table\n",
    "        cursor.execute('SELECT * FROM \"AirQuality\"')\n",
    "        \n",
    "        # Fetching all rows from the executed query\n",
    "        rows = cursor.fetchall()\n",
    "\n",
    "        # Extracting column names\n",
    "        colnames = [desc[0] for desc in cursor.description]\n",
    "\n",
    "        # Creating a DataFrame from the fetched data\n",
    "        df = pd.DataFrame(rows, columns=colnames)\n",
    "        \n",
    "        # Dropping the index column if it exists (assumption)\n",
    "        if 'index' in df.columns:\n",
    "            df.drop('index', axis=1, inplace=True)\n",
    "\n",
    "except Exception as e:\n",
    "    # Handling exceptions during database connection or data fetching\n",
    "    print(f'An error occurred: {e}')\n",
    "\n",
    "finally:\n",
    "    # Ensuring the database connection is closed\n",
    "    if connection:\n",
    "        connection.close()\n"
   ]
  },
  {
   "cell_type": "markdown",
   "id": "078bd7bc",
   "metadata": {},
   "source": [
    "## Initial Data Exploration\n",
    "We will now explore the structure of the DataFrame to understand the data better."
   ]
  },
  {
   "cell_type": "code",
   "execution_count": null,
   "id": "52f97226",
   "metadata": {},
   "outputs": [],
   "source": [
    "# Display the shape of the DataFrame (rows, columns)\n",
    "df.shape"
   ]
  }
 ],
 "metadata": {},
 "nbformat": 4,
 "nbformat_minor": 5
}
